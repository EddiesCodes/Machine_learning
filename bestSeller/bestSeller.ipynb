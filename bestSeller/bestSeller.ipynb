{
 "cells": [
  {
   "cell_type": "code",
   "execution_count": 1,
   "metadata": {},
   "outputs": [],
   "source": [
    "from scipy.stats import beta\n",
    "import numpy as np"
   ]
  },
  {
   "cell_type": "code",
   "execution_count": 2,
   "metadata": {},
   "outputs": [],
   "source": [
    "#SAMPLING\n",
    "def bestSeller(sizeOfSample, review1, review2):\n",
    "    \n",
    "    # create the beta samples\n",
    "    beta1_samples = np.array(beta.rvs(review1[0], review1[1], size=sizeOfSample))\n",
    "    beta2_samples = np.array(beta.rvs(review2[0], review2[1], size=sizeOfSample))\n",
    "    \n",
    "    #count all true values and divide samplesize\n",
    "    return np.sum(beta1_samples > beta2_samples)/sizeOfSample"
   ]
  },
  {
   "cell_type": "code",
   "execution_count": 3,
   "metadata": {},
   "outputs": [
    {
     "name": "stdout",
     "output_type": "stream",
     "text": [
      "0.712626\n"
     ]
    }
   ],
   "source": [
    "print(bestSeller(1000000, (91, 11), (3, 1)))"
   ]
  },
  {
   "cell_type": "code",
   "execution_count": 4,
   "metadata": {},
   "outputs": [],
   "source": [
    "# function from slides\n",
    "H = lambda t1,t2: beta.pdf(t1, 91, 11)*np.sum(beta.pdf(t2, 3, 1), axis=1)"
   ]
  },
  {
   "cell_type": "code",
   "execution_count": 5,
   "metadata": {},
   "outputs": [],
   "source": [
    "#NUMERICAL INTEGRATION\n",
    "def bestSeller(sizeOfSample, H):\n",
    "    \n",
    "    #create äquisdant points beetween 0 and 1\n",
    "    aq_points = np.linspace(0,1, sizeOfSample)\n",
    "    \n",
    "    #create matrix with sum of rows are teta1 > teta2\n",
    "    X = np.tril(aq_points)[1:]\n",
    "    \n",
    "    #create the factor (b-a)/N\n",
    "    b = 1/(np.arange(1,sizeOfSample)*sizeOfSample)*aq_points[1:]\n",
    "    \n",
    "    # calculate the numeric integral\n",
    "    return H(aq_points[1:], X)@b"
   ]
  },
  {
   "cell_type": "code",
   "execution_count": 6,
   "metadata": {},
   "outputs": [
    {
     "name": "stdout",
     "output_type": "stream",
     "text": [
      "0.7126410809889292\n"
     ]
    }
   ],
   "source": [
    "print(bestSeller(10000, H))"
   ]
  },
  {
   "cell_type": "code",
   "execution_count": 8,
   "metadata": {},
   "outputs": [
    {
     "data": {
      "image/png": "[encoded data removed]",
      "text/plain": [
       "<Figure size 432x288 with 1 Axes>"
      ]
     },
     "metadata": {
      "needs_background": "light"
     },
     "output_type": "display_data"
    }
   ],
   "source": [
    "import matplotlib.pyplot as plt\n",
    "x = np.linspace(0, 1, 100)\n",
    "\n",
    "plt.plot(x, beta.pdf(x, 91, 11))\n",
    "plt.plot(x, beta.pdf(x, 3, 1))\n",
    "plt.show();"
   ]
  },
  {
   "cell_type": "code",
   "execution_count": null,
   "metadata": {},
   "outputs": [],
   "source": []
  }
 ],
 "metadata": {
  "kernelspec": {
   "display_name": "Python 3",
   "language": "python",
   "name": "python3"
  },
  "language_info": {
   "codemirror_mode": {
    "name": "ipython",
    "version": 3
   },
   "file_extension": ".py",
   "mimetype": "text/x-python",
   "name": "python",
   "nbconvert_exporter": "python",
   "pygments_lexer": "ipython3",
   "version": "3.7.4"
  },
  "pycharm": {
   "stem_cell": {
    "cell_type": "raw",
    "metadata": {
     "collapsed": false
    },
    "source": []
   }
  }
 },
 "nbformat": 4,
 "nbformat_minor": 1
}
