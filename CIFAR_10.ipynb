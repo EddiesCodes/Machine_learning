{
  "nbformat": 4,
  "nbformat_minor": 0,
  "metadata": {
    "colab": {
      "name": "CIFAR_10.ipynb",
      "provenance": [],
      "collapsed_sections": [],
      "include_colab_link": true
    },
    "kernelspec": {
      "name": "python3",
      "display_name": "Python 3"
    },
    "accelerator": "GPU"
  },
  "cells": [
    {
      "cell_type": "markdown",
      "metadata": {
        "id": "view-in-github",
        "colab_type": "text"
      },
      "source": [
        "<a href=\"https://colab.research.google.com/github/EddiesCodes/Machine_learning/blob/master/CIFAR_10.ipynb\" target=\"_parent\"><img src=\"https://colab.research.google.com/assets/colab-badge.svg\" alt=\"Open In Colab\"/></a>"
      ]
    },
    {
      "cell_type": "markdown",
      "metadata": {
        "id": "WctHrYV1Mupx",
        "colab_type": "text"
      },
      "source": [
        "## Try CIFAR-10"
      ]
    },
    {
      "cell_type": "markdown",
      "metadata": {
        "id": "a9u4XyeYN9K1",
        "colab_type": "text"
      },
      "source": [
        "Import librarys"
      ]
    },
    {
      "cell_type": "code",
      "metadata": {
        "id": "TcnxoqG-MucU",
        "colab_type": "code",
        "colab": {}
      },
      "source": [
        "import sys\n",
        "import matplotlib.pyplot as plt\n",
        "from keras.datasets import cifar10\n",
        "if 'google.colab' in sys.modules:\n",
        "    %tensorflow_version 2.x\n",
        "import pandas as pd\n",
        "import numpy as np\n",
        "import tensorflow as tf\n",
        "from pydrive.drive import GoogleDrive\n",
        "from google_drive_downloader import GoogleDriveDownloader as gdd\n",
        "from keras.utils.np_utils import to_categorical\n",
        "from tensorflow.keras.layers import *\n",
        "\n",
        "AUTO = tf.data.experimental.AUTOTUNE"
      ],
      "execution_count": 0,
      "outputs": []
    },
    {
      "cell_type": "markdown",
      "metadata": {
        "id": "iCq8Z_EaOGRD",
        "colab_type": "text"
      },
      "source": [
        "##Configure the GPU"
      ]
    },
    {
      "cell_type": "code",
      "metadata": {
        "id": "3AxNZAxBNUkm",
        "colab_type": "code",
        "outputId": "9df75366-eef5-4b80-e82a-f70c1600ea9a",
        "colab": {
          "base_uri": "https://localhost:8080/",
          "height": 34
        }
      },
      "source": [
        "gpu = tf.config.experimental.list_logical_devices('GPU')\n",
        "strategy = tf.distribute.MirroredStrategy(gpu)"
      ],
      "execution_count": 2,
      "outputs": [
        {
          "output_type": "stream",
          "text": [
            "INFO:tensorflow:Using MirroredStrategy with devices ('/job:localhost/replica:0/task:0/device:GPU:0',)\n"
          ],
          "name": "stdout"
        }
      ]
    },
    {
      "cell_type": "markdown",
      "metadata": {
        "id": "UtqiiQR9OMXV",
        "colab_type": "text"
      },
      "source": [
        "##Download the data"
      ]
    },
    {
      "cell_type": "code",
      "metadata": {
        "id": "GMY19e9SOLGX",
        "colab_type": "code",
        "outputId": "c9863e42-a6f9-4932-c802-e37eb1715714",
        "colab": {
          "base_uri": "https://localhost:8080/",
          "height": 52
        }
      },
      "source": [
        "(X, Y), (X_test, Y_test) = cifar10.load_data()"
      ],
      "execution_count": 3,
      "outputs": [
        {
          "output_type": "stream",
          "text": [
            "Downloading data from https://www.cs.toronto.edu/~kriz/cifar-10-python.tar.gz\n",
            "170500096/170498071 [==============================] - 4s 0us/step\n"
          ],
          "name": "stdout"
        }
      ]
    },
    {
      "cell_type": "code",
      "metadata": {
        "id": "mP9s0GrVU9S2",
        "colab_type": "code",
        "outputId": "0f6fedc1-a31e-446a-af1e-6206f23d6413",
        "colab": {
          "base_uri": "https://localhost:8080/",
          "height": 34
        }
      },
      "source": [
        "X.shape, Y.shape, X_test.shape, Y_test.shape"
      ],
      "execution_count": 4,
      "outputs": [
        {
          "output_type": "execute_result",
          "data": {
            "text/plain": [
              "((50000, 32, 32, 3), (50000, 1), (10000, 32, 32, 3), (10000, 1))"
            ]
          },
          "metadata": {
            "tags": []
          },
          "execution_count": 4
        }
      ]
    },
    {
      "cell_type": "code",
      "metadata": {
        "id": "e-P8nEQBVU4c",
        "colab_type": "code",
        "outputId": "3369c48b-8365-49c9-b479-3c1df19e765d",
        "colab": {
          "base_uri": "https://localhost:8080/",
          "height": 34
        }
      },
      "source": [
        "np.unique(Y)"
      ],
      "execution_count": 5,
      "outputs": [
        {
          "output_type": "execute_result",
          "data": {
            "text/plain": [
              "array([0, 1, 2, 3, 4, 5, 6, 7, 8, 9], dtype=uint8)"
            ]
          },
          "metadata": {
            "tags": []
          },
          "execution_count": 5
        }
      ]
    },
    {
      "cell_type": "code",
      "metadata": {
        "id": "qfDoXAyWdtgj",
        "colab_type": "code",
        "colab": {}
      },
      "source": [
        "y = to_categorical(Y.reshape(-1, 1), num_classes=10)\n",
        "y_test = to_categorical(Y_test.reshape(-1, 1), num_classes=10)"
      ],
      "execution_count": 0,
      "outputs": []
    },
    {
      "cell_type": "code",
      "metadata": {
        "colab_type": "code",
        "id": "EwPsHYk-UEcc",
        "colab": {}
      },
      "source": [
        "def get_batched_dataset(dataset, train=False):\n",
        "  if train:\n",
        "    dataset = dataset.repeat()\n",
        "    dataset = dataset.shuffle(1337)\n",
        "\n",
        "  dataset = dataset.batch(BATCH_SIZE)\n",
        "  return dataset"
      ],
      "execution_count": 0,
      "outputs": []
    },
    {
      "cell_type": "code",
      "metadata": {
        "id": "oTT2wLwj3YMC",
        "colab_type": "code",
        "colab": {}
      },
      "source": [
        "train = tf.data.Dataset.from_tensor_slices((X/255,y))\n",
        "val = tf.data.Dataset.from_tensor_slices((X_test/255,y_test))"
      ],
      "execution_count": 0,
      "outputs": []
    },
    {
      "cell_type": "code",
      "metadata": {
        "id": "FfPNsD3Od0gn",
        "colab_type": "code",
        "colab": {}
      },
      "source": [
        "BATCH_SIZE = 64\n",
        "steps_per_epoch = X.shape[0] // BATCH_SIZE\n",
        "train = get_batched_dataset(train, train=True)\n",
        "val = get_batched_dataset(val)"
      ],
      "execution_count": 0,
      "outputs": []
    },
    {
      "cell_type": "markdown",
      "metadata": {
        "id": "9pqZjFqgdGGQ",
        "colab_type": "text"
      },
      "source": [
        "##Create resnet model"
      ]
    },
    {
      "cell_type": "code",
      "metadata": {
        "id": "9GDa2_1FFi8U",
        "colab_type": "code",
        "colab": {}
      },
      "source": [
        "def conv_module(filter_size, x):\n",
        "  y_1 = Conv2D(filter_size, kernel_size=3, strides=2)(x)\n",
        "  y_1 = BatchNormalization()(y_1)\n",
        "  y_1 = Activation('relu')(y_1)\n",
        "\n",
        "  y_2 = Conv2D(filter_size, kernel_size=3, strides=2)(x)\n",
        "  y_2 = BatchNormalization()(y_2)\n",
        "  y_2 = Activation('relu')(y_2)\n",
        "\n",
        "  y_3 = Conv2D(filter_size, kernel_size=1, strides=2)(x)\n",
        "  y_3 = BatchNormalization()(y_1)\n",
        "  y_3 = Activation('relu')(y_3)\n",
        "\n",
        "  return Add()([y_1, y_2, y_3])\n",
        "\n",
        "def conv_saufen(filter_size):\n",
        "  return lambda x : conv_module(filter_size, x)"
      ],
      "execution_count": 0,
      "outputs": []
    },
    {
      "cell_type": "code",
      "metadata": {
        "id": "yP41u_g6IkqY",
        "colab_type": "code",
        "colab": {}
      },
      "source": [
        "def identity_module(x):\n",
        "  filter_size = x.shape[3]\n",
        "\n",
        "  y_1 = Conv2D(filter_size, kernel_size=3, padding='same')(x)\n",
        "  y_1 = BatchNormalization()(y_1)\n",
        "  y_1 = Activation('relu')(y_1)\n",
        "  y_1 = Conv2D(filter_size, kernel_size=3, padding='same')(y_1)\n",
        "  y_1 = BatchNormalization()(y_1)\n",
        "  y_1 = Activation('relu')(y_1)\n",
        "\n",
        "  y_2 = Conv2D(filter_size, kernel_size=3, padding='same')(x)\n",
        "  y_2 = BatchNormalization()(y_2)\n",
        "  y_2 = Activation('relu')(y_2)\n",
        "  y_2 = Conv2D(filter_size, kernel_size=3, padding='same')(y_2)\n",
        "  y_2 = BatchNormalization()(y_2)\n",
        "  y_2 = Activation('relu')(y_2)\n",
        "\n",
        "  return Add()([y_1, y_2, x])\n",
        "\n",
        "def id_saufen():\n",
        "  return lambda x : identity_module(x)\n",
        "\n"
      ],
      "execution_count": 0,
      "outputs": []
    },
    {
      "cell_type": "code",
      "metadata": {
        "id": "KBsB2KTkJ8ru",
        "colab_type": "code",
        "colab": {}
      },
      "source": [
        "def create_model():\n",
        "  x = Input(shape = (32, 32, 3))\n",
        "\n",
        "  y = Conv2D(32, 3)(x)\n",
        "  y = Dropout(0.1)(y)\n",
        "\n",
        "  y = id_saufen()(y)\n",
        "  y = conv_saufen(64)(y)\n",
        "  y = Dropout(0.15)(y)\n",
        "\n",
        "  y = id_saufen()(y)\n",
        "  y = conv_saufen(128)(y)\n",
        "  y = Dropout(0.2)(y)\n",
        "\n",
        "  y = id_saufen()(y)\n",
        "  y = conv_saufen(256)(y)\n",
        "  y = Dropout(0.25)(y)\n",
        "\n",
        "  y = GlobalAveragePooling2D()(y)\n",
        "\n",
        "  y = Dense(10, activation='softmax')(y)\n",
        "  model = tf.keras.Model(x, y)\n",
        "  return model"
      ],
      "execution_count": 0,
      "outputs": []
    },
    {
      "cell_type": "code",
      "metadata": {
        "id": "RiD82RB7QDQm",
        "colab_type": "code",
        "colab": {}
      },
      "source": [
        "model_resnet = create_model()\n",
        "model_resnet.compile(\n",
        "    optimizer = 'adam',\n",
        "    loss = 'categorical_crossentropy',\n",
        "    metrics = ['accuracy']\n",
        ")"
      ],
      "execution_count": 0,
      "outputs": []
    },
    {
      "cell_type": "code",
      "metadata": {
        "id": "z1ZfLKZqQf6i",
        "colab_type": "code",
        "colab": {}
      },
      "source": [
        "model_resnet.summary()"
      ],
      "execution_count": 0,
      "outputs": []
    },
    {
      "cell_type": "code",
      "metadata": {
        "id": "mXkkiWNRSC39",
        "colab_type": "code",
        "colab": {
          "base_uri": "https://localhost:8080/",
          "height": 781
        },
        "outputId": "46d8681d-57e2-4b0a-b8be-63460d4946c8"
      },
      "source": [
        "annealer = tf.keras.callbacks.LearningRateScheduler(learn_rate)\n",
        "model_resnet.fit(\n",
        "          train,\n",
        "          validation_data=val,\n",
        "          epochs= 100,\n",
        "          batch_size=BATCH_SIZE,\n",
        "          steps_per_epoch = steps_per_epoch,\n",
        "          callbacks=[annealer]\n",
        "          \n",
        ")"
      ],
      "execution_count": 0,
      "outputs": [
        {
          "output_type": "stream",
          "text": [
            "Epoch 1/100\n",
            "781/781 [==============================] - 16s 21ms/step - loss: 1.5737 - accuracy: 0.4593 - val_loss: 1.4209 - val_accuracy: 0.5172 - lr: 0.0010\n",
            "Epoch 2/100\n",
            "781/781 [==============================] - 16s 21ms/step - loss: 0.9648 - accuracy: 0.6659 - val_loss: 1.0709 - val_accuracy: 0.6456 - lr: 0.0010\n",
            "Epoch 3/100\n",
            "781/781 [==============================] - 16s 21ms/step - loss: 0.7273 - accuracy: 0.7467 - val_loss: 0.9349 - val_accuracy: 0.6877 - lr: 0.0010\n",
            "Epoch 4/100\n",
            "781/781 [==============================] - 16s 21ms/step - loss: 0.5930 - accuracy: 0.7932 - val_loss: 1.0393 - val_accuracy: 0.6868 - lr: 0.0010\n",
            "Epoch 5/100\n",
            "781/781 [==============================] - 16s 21ms/step - loss: 0.5032 - accuracy: 0.8246 - val_loss: 0.6897 - val_accuracy: 0.7739 - lr: 0.0010\n",
            "Epoch 6/100\n",
            "781/781 [==============================] - 16s 21ms/step - loss: 0.4330 - accuracy: 0.8479 - val_loss: 0.8116 - val_accuracy: 0.7542 - lr: 0.0010\n",
            "Epoch 7/100\n",
            "781/781 [==============================] - 16s 21ms/step - loss: 0.3721 - accuracy: 0.8688 - val_loss: 0.7070 - val_accuracy: 0.7776 - lr: 0.0010\n",
            "Epoch 8/100\n",
            "781/781 [==============================] - 16s 21ms/step - loss: 0.3190 - accuracy: 0.8884 - val_loss: 0.6857 - val_accuracy: 0.7961 - lr: 0.0010\n",
            "Epoch 9/100\n",
            "781/781 [==============================] - 16s 21ms/step - loss: 0.2701 - accuracy: 0.9053 - val_loss: 0.6292 - val_accuracy: 0.8111 - lr: 0.0010\n",
            "Epoch 10/100\n",
            "781/781 [==============================] - 16s 21ms/step - loss: 0.2311 - accuracy: 0.9175 - val_loss: 0.7379 - val_accuracy: 0.7973 - lr: 0.0010\n",
            "Epoch 11/100\n",
            "781/781 [==============================] - 16s 21ms/step - loss: 0.1972 - accuracy: 0.9291 - val_loss: 0.6401 - val_accuracy: 0.8150 - lr: 0.0010\n",
            "Epoch 12/100\n",
            "781/781 [==============================] - 16s 21ms/step - loss: 0.1787 - accuracy: 0.9360 - val_loss: 0.6225 - val_accuracy: 0.8209 - lr: 0.0010\n",
            "Epoch 13/100\n",
            "781/781 [==============================] - 16s 21ms/step - loss: 0.1514 - accuracy: 0.9452 - val_loss: 0.6713 - val_accuracy: 0.8231 - lr: 0.0010\n",
            "Epoch 14/100\n",
            "781/781 [==============================] - 16s 21ms/step - loss: 0.1372 - accuracy: 0.9512 - val_loss: 0.9438 - val_accuracy: 0.7872 - lr: 0.0010\n",
            "Epoch 15/100\n",
            "781/781 [==============================] - 16s 21ms/step - loss: 0.1247 - accuracy: 0.9560 - val_loss: 0.6187 - val_accuracy: 0.8413 - lr: 0.0010\n",
            "Epoch 16/100\n",
            "781/781 [==============================] - 16s 21ms/step - loss: 0.1180 - accuracy: 0.9579 - val_loss: 0.6279 - val_accuracy: 0.8414 - lr: 0.0010\n",
            "Epoch 17/100\n",
            "781/781 [==============================] - 16s 21ms/step - loss: 0.1088 - accuracy: 0.9620 - val_loss: 0.6319 - val_accuracy: 0.8434 - lr: 0.0010\n",
            "Epoch 18/100\n",
            "781/781 [==============================] - 16s 21ms/step - loss: 0.0978 - accuracy: 0.9650 - val_loss: 0.8343 - val_accuracy: 0.8118 - lr: 0.0010\n",
            "Epoch 19/100\n",
            "781/781 [==============================] - 16s 21ms/step - loss: 0.0957 - accuracy: 0.9667 - val_loss: 0.6855 - val_accuracy: 0.8319 - lr: 0.0010\n",
            "Epoch 20/100\n",
            "781/781 [==============================] - 16s 21ms/step - loss: 0.0892 - accuracy: 0.9691 - val_loss: 0.6608 - val_accuracy: 0.8431 - lr: 0.0010\n",
            "Epoch 21/100\n",
            "781/781 [==============================] - 16s 20ms/step - loss: 0.0811 - accuracy: 0.9714 - val_loss: 0.8826 - val_accuracy: 0.8156 - lr: 0.0010\n",
            "Epoch 22/100\n",
            "631/781 [=======================>......] - ETA: 2s - loss: 0.0854 - accuracy: 0.9696"
          ],
          "name": "stdout"
        }
      ]
    },
    {
      "cell_type": "code",
      "metadata": {
        "id": "f7QHiT8sSnwy",
        "colab_type": "code",
        "colab": {}
      },
      "source": [
        "def learn_rate(x):\n",
        "  lr = 1e-3\n",
        "  if x > 25:\n",
        "    lr = lr*0.1\n",
        "  return lr"
      ],
      "execution_count": 0,
      "outputs": []
    },
    {
      "cell_type": "code",
      "metadata": {
        "id": "XttVZelWctlZ",
        "colab_type": "code",
        "colab": {}
      },
      "source": [
        ""
      ],
      "execution_count": 0,
      "outputs": []
    }
  ]
}